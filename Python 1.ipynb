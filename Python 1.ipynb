{
 "cells": [
  {
   "cell_type": "markdown",
   "id": "43aaf0da-35a3-4711-9688-c993c8292b28",
   "metadata": {},
   "source": [
    "# PYTHON PROGRAMMING LANUGUAGE"
   ]
  },
  {
   "cell_type": "code",
   "execution_count": 4,
   "id": "4513c5a0-979f-4782-8e28-586cc6400ba3",
   "metadata": {},
   "outputs": [
    {
     "data": {
      "text/plain": [
       "'3.12.7 | packaged by Anaconda, Inc. | (main, Oct  4 2024, 13:17:27) [MSC v.1929 64 bit (AMD64)]'"
      ]
     },
     "execution_count": 4,
     "metadata": {},
     "output_type": "execute_result"
    }
   ],
   "source": [
    "import sys\n",
    "sys.version"
   ]
  },
  {
   "cell_type": "code",
   "execution_count": 6,
   "id": "d3464fda-931a-4213-85f5-4e9846fa1473",
   "metadata": {},
   "outputs": [
    {
     "data": {
      "text/plain": [
       "'welcome to United States'"
      ]
     },
     "execution_count": 6,
     "metadata": {},
     "output_type": "execute_result"
    }
   ],
   "source": [
    "'welcome to United States'"
   ]
  },
  {
   "cell_type": "code",
   "execution_count": null,
   "id": "0fadf310-d4a9-4309-adaa-6053bac45909",
   "metadata": {},
   "outputs": [],
   "source": []
  }
 ],
 "metadata": {
  "kernelspec": {
   "display_name": "Python [conda env:anaconda3] *",
   "language": "python",
   "name": "conda-env-anaconda3-py"
  },
  "language_info": {
   "codemirror_mode": {
    "name": "ipython",
    "version": 3
   },
   "file_extension": ".py",
   "mimetype": "text/x-python",
   "name": "python",
   "nbconvert_exporter": "python",
   "pygments_lexer": "ipython3",
   "version": "3.12.7"
  }
 },
 "nbformat": 4,
 "nbformat_minor": 5
}
