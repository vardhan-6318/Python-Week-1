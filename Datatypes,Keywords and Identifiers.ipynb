{
 "cells": [
  {
   "cell_type": "code",
   "execution_count": 23,
   "id": "c9dfcb6e-daec-4376-b314-7d1242b82534",
   "metadata": {},
   "outputs": [],
   "source": [
    "import sys \n",
    "import keyword \n",
    "import operator \n",
    "from datetime import datetime \n",
    "import os"
   ]
  },
  {
   "cell_type": "markdown",
   "id": "4b66f72e-f6e3-4659-9825-980fc249e223",
   "metadata": {},
   "source": [
    "# Keywords"
   ]
  },
  {
   "cell_type": "raw",
   "id": "62799ec3-231b-49a2-ac3f-9da0d88ffffd",
   "metadata": {},
   "source": [
    "Keywords are the reserved words in Python and can't be used as an identifier"
   ]
  },
  {
   "cell_type": "code",
   "execution_count": null,
   "id": "41a2d048-2d47-4ed7-98da-827dc7806d59",
   "metadata": {},
   "outputs": [],
   "source": [
    "print(keyword.kwlist)"
   ]
  },
  {
   "cell_type": "code",
   "execution_count": null,
   "id": "559a1707-84f8-41dc-907b-06a4c03c477f",
   "metadata": {},
   "outputs": [],
   "source": [
    "['False', 'None', 'True', 'and', 'as', 'assert', 'async', 'await', 'break', 'cl \n",
    "ass', 'continue', 'def', 'del', 'elif', 'else', 'except', 'finally', 'for', 'fr \n",
    "om', 'global', 'if', 'import', 'in', 'is', 'lambda', 'nonlocal', 'not', 'or', \n",
    "'pass', 'raise', 'return', 'try', 'while', 'with', 'yield'] "
   ]
  },
  {
   "cell_type": "code",
   "execution_count": 29,
   "id": "bb33bf0a-6ce8-4d22-8e76-2a50f64c7c2b",
   "metadata": {},
   "outputs": [
    {
     "data": {
      "text/plain": [
       "35"
      ]
     },
     "execution_count": 29,
     "metadata": {},
     "output_type": "execute_result"
    }
   ],
   "source": [
    "len(keyword.kwlist)"
   ]
  },
  {
   "cell_type": "markdown",
   "id": "dd5b83e9-075e-4e44-96e6-4e9a4d2aae9c",
   "metadata": {},
   "source": [
    "# Identifiers"
   ]
  },
  {
   "cell_type": "code",
   "execution_count": 36,
   "id": "e05f0997-c435-4981-8672-8f7e0df7ca23",
   "metadata": {},
   "outputs": [
    {
     "ename": "SyntaxError",
     "evalue": "invalid decimal literal (1470822517.py, line 1)",
     "output_type": "error",
     "traceback": [
      "\u001b[1;36m  Cell \u001b[1;32mIn[36], line 1\u001b[1;36m\u001b[0m\n\u001b[1;33m    1var=10  # Identifier can't start with a digit\u001b[0m\n\u001b[1;37m    ^\u001b[0m\n\u001b[1;31mSyntaxError\u001b[0m\u001b[1;31m:\u001b[0m invalid decimal literal\n"
     ]
    }
   ],
   "source": [
    "1var=10  # Identifier can't start with a digit "
   ]
  },
  {
   "cell_type": "code",
   "execution_count": 38,
   "id": "67038a6f-92fc-4dde-88e6-f4a835e18a30",
   "metadata": {},
   "outputs": [
    {
     "ename": "NameError",
     "evalue": "name 'val2' is not defined",
     "output_type": "error",
     "traceback": [
      "\u001b[1;31m---------------------------------------------------------------------------\u001b[0m",
      "\u001b[1;31mNameError\u001b[0m                                 Traceback (most recent call last)",
      "Cell \u001b[1;32mIn[38], line 1\u001b[0m\n\u001b[1;32m----> 1\u001b[0m \u001b[43mval2\u001b[49m\u001b[38;5;241m@\u001b[39m\u001b[38;5;241m=\u001b[39m\u001b[38;5;241m35\u001b[39m  \u001b[38;5;66;03m# Identifier can't use special symbols \u001b[39;00m\n",
      "\u001b[1;31mNameError\u001b[0m: name 'val2' is not defined"
     ]
    }
   ],
   "source": [
    "val2@=35  # Identifier can't use special symbols "
   ]
  },
  {
   "cell_type": "code",
   "execution_count": 40,
   "id": "74f23d59-46dd-4604-9332-8524fcd2808d",
   "metadata": {},
   "outputs": [
    {
     "ename": "SyntaxError",
     "evalue": "invalid syntax (1813711546.py, line 1)",
     "output_type": "error",
     "traceback": [
      "\u001b[1;36m  Cell \u001b[1;32mIn[40], line 1\u001b[1;36m\u001b[0m\n\u001b[1;33m    import =125 # Keywords can't be used as identifiers\u001b[0m\n\u001b[1;37m           ^\u001b[0m\n\u001b[1;31mSyntaxError\u001b[0m\u001b[1;31m:\u001b[0m invalid syntax\n"
     ]
    }
   ],
   "source": [
    "import =125 # Keywords can't be used as identifiers"
   ]
  },
  {
   "cell_type": "code",
   "execution_count": 42,
   "id": "c166e2d2-a726-4448-848e-af420cda58b4",
   "metadata": {},
   "outputs": [],
   "source": [
    "val2 = 10 "
   ]
  },
  {
   "cell_type": "code",
   "execution_count": 44,
   "id": "bdb45fe6-d393-470f-a644-db5815591bec",
   "metadata": {},
   "outputs": [],
   "source": [
    "val_ = 99 "
   ]
  },
  {
   "cell_type": "markdown",
   "id": "ec79860b-409a-4286-87c3-3a03856cadf4",
   "metadata": {},
   "source": [
    "# Statements"
   ]
  },
  {
   "cell_type": "code",
   "execution_count": 83,
   "id": "9101618e-609d-4737-913d-8e532aa492fd",
   "metadata": {},
   "outputs": [
    {
     "data": {
      "text/plain": [
       "(20, int, '0x7ffc92082c18')"
      ]
     },
     "execution_count": 83,
     "metadata": {},
     "output_type": "execute_result"
    }
   ],
   "source": [
    "p=20\n",
    "q=20\n",
    "r=q\n",
    "p,type(p),hex(id(p))"
   ]
  },
  {
   "cell_type": "code",
   "execution_count": 87,
   "id": "46101bf6-15ab-45b8-b5bd-8e314d1f689f",
   "metadata": {},
   "outputs": [
    {
     "data": {
      "text/plain": [
       "((int, '0x7ffc92082c18'), tuple, '0x1dbff1bf580')"
      ]
     },
     "execution_count": 87,
     "metadata": {},
     "output_type": "execute_result"
    }
   ],
   "source": [
    "q,type(q),hex(id(q))"
   ]
  },
  {
   "cell_type": "code",
   "execution_count": 89,
   "id": "7fd03f05-5971-4e16-8a5a-d2e064f6c685",
   "metadata": {},
   "outputs": [
    {
     "data": {
      "text/plain": [
       "(20, int, '0x7ffc92082c18')"
      ]
     },
     "execution_count": 89,
     "metadata": {},
     "output_type": "execute_result"
    }
   ],
   "source": [
    " r,type(r),hex(id(r))"
   ]
  },
  {
   "cell_type": "code",
   "execution_count": 91,
   "id": "e5b34a86-34b8-4e84-9111-4b6e4dfd2127",
   "metadata": {},
   "outputs": [
    {
     "data": {
      "text/plain": [
       "30"
      ]
     },
     "execution_count": 91,
     "metadata": {},
     "output_type": "execute_result"
    }
   ],
   "source": [
    "p=20\n",
    "p=p+10\n",
    "p"
   ]
  },
  {
   "cell_type": "markdown",
   "id": "977c62ec-201e-4bd9-8a84-fec7549e1403",
   "metadata": {},
   "source": [
    "# Variable Assignment"
   ]
  },
  {
   "cell_type": "code",
   "execution_count": 98,
   "id": "8105b73e-d221-49ef-bbb9-460f771032a8",
   "metadata": {},
   "outputs": [
    {
     "name": "stdout",
     "output_type": "stream",
     "text": [
      "10\n",
      "2.57\n",
      "Python Language\n"
     ]
    }
   ],
   "source": [
    "intvar=10\n",
    "floatvar=2.57\n",
    "strvar=\"Python Language\"\n",
    "print(intvar)\n",
    "print(floatvar)\n",
    "print(strvar)\n",
    "\n"
   ]
  },
  {
   "cell_type": "markdown",
   "id": "c4da85df-1b1f-447e-a439-a8e7b3907e6d",
   "metadata": {},
   "source": [
    "# Multiple Assignment"
   ]
  },
  {
   "cell_type": "code",
   "execution_count": 108,
   "id": "71d83c40-76df-4828-935c-6122e6c00b62",
   "metadata": {},
   "outputs": [
    {
     "name": "stdout",
     "output_type": "stream",
     "text": [
      "10\n",
      "2.57\n",
      "Python Language\n"
     ]
    }
   ],
   "source": [
    "intvar,floatvar,strvar=10,2.57,\"Python Language\"\n",
    "print(intvar)\n",
    "print(floatvar)\n",
    "print(strvar)"
   ]
  },
  {
   "cell_type": "markdown",
   "id": "166231a8-0eae-4ecb-bae8-5b6c2c2a36d3",
   "metadata": {},
   "source": [
    "# Data Types"
   ]
  },
  {
   "cell_type": "markdown",
   "id": "768c573c-512c-4e89-a9d8-fdfe8b288800",
   "metadata": {},
   "source": [
    "# Numeric"
   ]
  },
  {
   "cell_type": "code",
   "execution_count": 118,
   "id": "3ec87936-e7a5-4c06-b959-b9b3da217a0c",
   "metadata": {},
   "outputs": [
    {
     "name": "stdout",
     "output_type": "stream",
     "text": [
      "10\n",
      "<class 'int'>\n",
      "28\n",
      "10  is Integer? True\n"
     ]
    }
   ],
   "source": [
    "val1=10\n",
    "print(val1)\n",
    "print(type(val1))\n",
    "print(sys.getsizeof(val1))\n",
    "print(val1, \" is Integer?\", isinstance(val1, int))"
   ]
  },
  {
   "cell_type": "code",
   "execution_count": 120,
   "id": "21c002f3-ed01-4926-9dc7-c77a9f8f5a4c",
   "metadata": {},
   "outputs": [
    {
     "name": "stdout",
     "output_type": "stream",
     "text": [
      "92.78\n",
      "<class 'float'>\n",
      "24\n",
      "92.78  is float? True\n"
     ]
    }
   ],
   "source": [
    "val2 = 92.78\n",
    "print(val2) \n",
    "print(type(val2))\n",
    "print(sys.getsizeof(val2))\n",
    "print(val2, \" is float?\", isinstance(val2, float)) "
   ]
  },
  {
   "cell_type": "code",
   "execution_count": 124,
   "id": "84a6251a-d9d0-4cd6-a22d-8d5306ecb17d",
   "metadata": {},
   "outputs": [
    {
     "name": "stdout",
     "output_type": "stream",
     "text": [
      "(25+10j)\n",
      "<class 'complex'>\n",
      "32\n",
      "(25+10j)  is complex? True\n"
     ]
    }
   ],
   "source": [
    "val3 = 25 + 10j  \n",
    "print(val3) \n",
    "print(type(val3)) \n",
    "print(sys.getsizeof(val3))  \n",
    "print(val3, \" is complex?\", isinstance(val3, complex))"
   ]
  },
  {
   "cell_type": "code",
   "execution_count": 132,
   "id": "0c493cd5-0c44-4ec4-9a26-8c2399a57804",
   "metadata": {},
   "outputs": [
    {
     "data": {
      "text/plain": [
       "28"
      ]
     },
     "execution_count": 132,
     "metadata": {},
     "output_type": "execute_result"
    }
   ],
   "source": [
    "sys.getsizeof(int())"
   ]
  },
  {
   "cell_type": "code",
   "execution_count": 134,
   "id": "7d23359c-0416-48c5-875f-245b94afec87",
   "metadata": {},
   "outputs": [
    {
     "data": {
      "text/plain": [
       "24"
      ]
     },
     "execution_count": 134,
     "metadata": {},
     "output_type": "execute_result"
    }
   ],
   "source": [
    "sys.getsizeof(float())"
   ]
  },
  {
   "cell_type": "code",
   "execution_count": 136,
   "id": "9ff8c168-b4e5-4052-bbdb-81ab205fa380",
   "metadata": {},
   "outputs": [
    {
     "data": {
      "text/plain": [
       "32"
      ]
     },
     "execution_count": 136,
     "metadata": {},
     "output_type": "execute_result"
    }
   ],
   "source": [
    "sys.getsizeof(complex())"
   ]
  },
  {
   "cell_type": "markdown",
   "id": "b67d75cc-3af8-4210-916e-cd2942ef36ca",
   "metadata": {},
   "source": [
    "# Boolean"
   ]
  },
  {
   "cell_type": "code",
   "execution_count": 149,
   "id": "097d3fc3-470a-4d4f-b2b4-6af3506c4e02",
   "metadata": {},
   "outputs": [],
   "source": [
    "bool1=True"
   ]
  },
  {
   "cell_type": "code",
   "execution_count": 151,
   "id": "761132dd-b996-405b-a8ff-c4a79d818b6d",
   "metadata": {},
   "outputs": [],
   "source": [
    "bool2=False\n"
   ]
  },
  {
   "cell_type": "code",
   "execution_count": 155,
   "id": "d79b5189-6e0a-450a-bb33-3b65c1cc0b45",
   "metadata": {},
   "outputs": [
    {
     "name": "stdout",
     "output_type": "stream",
     "text": [
      "<class 'bool'>\n"
     ]
    }
   ],
   "source": [
    "print(type(bool1))"
   ]
  },
  {
   "cell_type": "code",
   "execution_count": 157,
   "id": "7bdc9217-302e-4681-87e2-3c5b3e31d215",
   "metadata": {},
   "outputs": [
    {
     "name": "stdout",
     "output_type": "stream",
     "text": [
      "<class 'bool'>\n"
     ]
    }
   ],
   "source": [
    "print(type(bool2))"
   ]
  },
  {
   "cell_type": "code",
   "execution_count": 159,
   "id": "4184e6e2-af74-4fd2-b856-d03511a035eb",
   "metadata": {},
   "outputs": [
    {
     "data": {
      "text/plain": [
       "True"
      ]
     },
     "execution_count": 159,
     "metadata": {},
     "output_type": "execute_result"
    }
   ],
   "source": [
    "isinstance(bool1,bool)"
   ]
  },
  {
   "cell_type": "code",
   "execution_count": 169,
   "id": "41e615ab-2787-4076-8465-3b89d6b0ec77",
   "metadata": {},
   "outputs": [
    {
     "data": {
      "text/plain": [
       "False"
      ]
     },
     "execution_count": 169,
     "metadata": {},
     "output_type": "execute_result"
    }
   ],
   "source": [
    "bool(0)\n"
   ]
  },
  {
   "cell_type": "code",
   "execution_count": 163,
   "id": "23d396c2-5125-4cdf-a36a-03f8b68d5dc5",
   "metadata": {},
   "outputs": [
    {
     "data": {
      "text/plain": [
       "True"
      ]
     },
     "execution_count": 163,
     "metadata": {},
     "output_type": "execute_result"
    }
   ],
   "source": [
    "bool(1)"
   ]
  },
  {
   "cell_type": "code",
   "execution_count": 165,
   "id": "eb7dc37d-a3ec-404d-8482-82760b9c986e",
   "metadata": {},
   "outputs": [
    {
     "data": {
      "text/plain": [
       "False"
      ]
     },
     "execution_count": 165,
     "metadata": {},
     "output_type": "execute_result"
    }
   ],
   "source": [
    "bool(None)"
   ]
  },
  {
   "cell_type": "code",
   "execution_count": 167,
   "id": "0344f105-9307-4c89-a376-be5abd1ad7c1",
   "metadata": {},
   "outputs": [
    {
     "data": {
      "text/plain": [
       "False"
      ]
     },
     "execution_count": 167,
     "metadata": {},
     "output_type": "execute_result"
    }
   ],
   "source": [
    "bool(False)"
   ]
  },
  {
   "cell_type": "markdown",
   "id": "8ece1a35-87c4-4cd3-9132-219214c37d58",
   "metadata": {},
   "source": [
    "# String"
   ]
  },
  {
   "cell_type": "code",
   "execution_count": 172,
   "id": "4641de5f-cd73-4c27-8473-9b45473d5b99",
   "metadata": {},
   "outputs": [
    {
     "name": "stdout",
     "output_type": "stream",
     "text": [
      "HELLO PYTHON\n"
     ]
    }
   ],
   "source": [
    "str1 = \"HELLO PYTHON\" \n",
    "print(str1)"
   ]
  },
  {
   "cell_type": "code",
   "execution_count": 174,
   "id": "78f9eb08-e5c2-491b-a9d0-7f25815ee058",
   "metadata": {},
   "outputs": [
    {
     "name": "stdout",
     "output_type": "stream",
     "text": [
      "Hello World\n"
     ]
    }
   ],
   "source": [
    "mystr = 'Hello World'  \n",
    "print(mystr)"
   ]
  },
  {
   "cell_type": "code",
   "execution_count": 176,
   "id": "6f2864a2-4f9c-4885-974b-fb220d4055e2",
   "metadata": {},
   "outputs": [
    {
     "name": "stdout",
     "output_type": "stream",
     "text": [
      "Hello World\n"
     ]
    }
   ],
   "source": [
    "mystr = \"Hello World\" \n",
    "print(mystr)"
   ]
  },
  {
   "cell_type": "code",
   "execution_count": 178,
   "id": "bf16dd06-2490-4e71-9d99-9f29a76159d0",
   "metadata": {},
   "outputs": [
    {
     "name": "stdout",
     "output_type": "stream",
     "text": [
      "Hello \n",
      "World \n"
     ]
    }
   ],
   "source": [
    "mystr = '''Hello \n",
    "World ''' \n",
    "print(mystr)"
   ]
  },
  {
   "cell_type": "code",
   "execution_count": 180,
   "id": "3922acb2-4c2c-4ba8-b5cc-9c749c9636ef",
   "metadata": {},
   "outputs": [
    {
     "name": "stdout",
     "output_type": "stream",
     "text": [
      "Hello \n",
      "World\n"
     ]
    }
   ],
   "source": [
    "mystr = \"\"\"Hello \n",
    "World\"\"\" \n",
    "print(mystr)"
   ]
  },
  {
   "cell_type": "code",
   "execution_count": 182,
   "id": "cc23aa0a-f133-4eb5-bd4f-30fae947c967",
   "metadata": {},
   "outputs": [
    {
     "name": "stdout",
     "output_type": "stream",
     "text": [
      "Happy Monday Everyone\n"
     ]
    }
   ],
   "source": [
    "mystr = ('Happy ' \n",
    "'Monday ' \n",
    "'Everyone') \n",
    "print(mystr) "
   ]
  },
  {
   "cell_type": "code",
   "execution_count": 184,
   "id": "7615bc32-3326-477c-aa70-662d05d4dbd6",
   "metadata": {},
   "outputs": [
    {
     "data": {
      "text/plain": [
       "'Woohoo Woohoo Woohoo Woohoo Woohoo '"
      ]
     },
     "execution_count": 184,
     "metadata": {},
     "output_type": "execute_result"
    }
   ],
   "source": [
    "mystr2 = 'Woohoo ' \n",
    "mystr2 = mystr2*5 \n",
    "mystr2 "
   ]
  },
  {
   "cell_type": "code",
   "execution_count": 186,
   "id": "d418cff8-463a-42b5-a10c-7e3478d7e167",
   "metadata": {},
   "outputs": [
    {
     "data": {
      "text/plain": [
       "35"
      ]
     },
     "execution_count": 186,
     "metadata": {},
     "output_type": "execute_result"
    }
   ],
   "source": [
    "len(mystr2) # Length of string"
   ]
  },
  {
   "cell_type": "markdown",
   "id": "a32e9200-37a5-4ab8-bcfc-d9f69530f94c",
   "metadata": {},
   "source": [
    "# String Indexing"
   ]
  },
  {
   "cell_type": "code",
   "execution_count": 189,
   "id": "26d37108-1fe6-40d5-b0ef-a862678198ce",
   "metadata": {},
   "outputs": [
    {
     "data": {
      "text/plain": [
       "'HELLO PYTHON'"
      ]
     },
     "execution_count": 189,
     "metadata": {},
     "output_type": "execute_result"
    }
   ],
   "source": [
    "str1 "
   ]
  },
  {
   "cell_type": "code",
   "execution_count": 191,
   "id": "a96329a1-0775-4260-bae7-b807b1ad393f",
   "metadata": {},
   "outputs": [
    {
     "data": {
      "text/plain": [
       "'H'"
      ]
     },
     "execution_count": 191,
     "metadata": {},
     "output_type": "execute_result"
    }
   ],
   "source": [
    "\n",
    "str1[0]"
   ]
  },
  {
   "cell_type": "code",
   "execution_count": 193,
   "id": "e1dc6ccd-512f-41f6-a8df-a1347ae4e9f9",
   "metadata": {},
   "outputs": [
    {
     "data": {
      "text/plain": [
       "'N'"
      ]
     },
     "execution_count": 193,
     "metadata": {},
     "output_type": "execute_result"
    }
   ],
   "source": [
    "\n",
    "str1[len(str1)-1] "
   ]
  },
  {
   "cell_type": "code",
   "execution_count": 195,
   "id": "f60d3897-03f5-42d3-8fa5-67c3088a8711",
   "metadata": {},
   "outputs": [
    {
     "data": {
      "text/plain": [
       "'N'"
      ]
     },
     "execution_count": 195,
     "metadata": {},
     "output_type": "execute_result"
    }
   ],
   "source": [
    "\n",
    "str1[-1]"
   ]
  },
  {
   "cell_type": "code",
   "execution_count": 197,
   "id": "53393972-3fd7-4fc2-974c-ad89ba8286dc",
   "metadata": {},
   "outputs": [
    {
     "data": {
      "text/plain": [
       "'P'"
      ]
     },
     "execution_count": 197,
     "metadata": {},
     "output_type": "execute_result"
    }
   ],
   "source": [
    "\n",
    "str1[6]"
   ]
  },
  {
   "cell_type": "code",
   "execution_count": 199,
   "id": "0e1ca19a-517c-4b53-b7f4-cc69fa0ae27f",
   "metadata": {},
   "outputs": [
    {
     "data": {
      "text/plain": [
       "' '"
      ]
     },
     "execution_count": 199,
     "metadata": {},
     "output_type": "execute_result"
    }
   ],
   "source": [
    "\n",
    "str1[5] "
   ]
  },
  {
   "cell_type": "markdown",
   "id": "48644183-255a-494c-afe6-0abe654337bd",
   "metadata": {},
   "source": [
    "# String Slicing "
   ]
  },
  {
   "cell_type": "code",
   "execution_count": 202,
   "id": "980724a7-c1f3-420d-89ef-43b700d7c55e",
   "metadata": {},
   "outputs": [
    {
     "data": {
      "text/plain": [
       "'HELLO'"
      ]
     },
     "execution_count": 202,
     "metadata": {},
     "output_type": "execute_result"
    }
   ],
   "source": [
    "\n",
    "str1[0:5] "
   ]
  },
  {
   "cell_type": "code",
   "execution_count": 204,
   "id": "76363eae-fac8-43e3-b763-815dfa61d830",
   "metadata": {},
   "outputs": [
    {
     "data": {
      "text/plain": [
       "'PYTHON'"
      ]
     },
     "execution_count": 204,
     "metadata": {},
     "output_type": "execute_result"
    }
   ],
   "source": [
    "\n",
    "str1[6:12]"
   ]
  },
  {
   "cell_type": "code",
   "execution_count": 206,
   "id": "7084a3dd-9a8c-45ad-a3b0-ad78596e1ce7",
   "metadata": {},
   "outputs": [
    {
     "data": {
      "text/plain": [
       "'THON'"
      ]
     },
     "execution_count": 206,
     "metadata": {},
     "output_type": "execute_result"
    }
   ],
   "source": [
    "\n",
    "str1[-4:] "
   ]
  },
  {
   "cell_type": "code",
   "execution_count": 208,
   "id": "629b67c8-17cf-4c47-9883-789c8d9aeff9",
   "metadata": {},
   "outputs": [
    {
     "data": {
      "text/plain": [
       "'PYTHON'"
      ]
     },
     "execution_count": 208,
     "metadata": {},
     "output_type": "execute_result"
    }
   ],
   "source": [
    "\n",
    "str1[-6:] "
   ]
  },
  {
   "cell_type": "code",
   "execution_count": 210,
   "id": "85dba6b4-d231-46d8-a7ca-665185a5fc7d",
   "metadata": {},
   "outputs": [
    {
     "data": {
      "text/plain": [
       "'HELL'"
      ]
     },
     "execution_count": 210,
     "metadata": {},
     "output_type": "execute_result"
    }
   ],
   "source": [
    "str1[:4]"
   ]
  },
  {
   "cell_type": "code",
   "execution_count": 212,
   "id": "cd22a4d2-a93b-47af-b106-8e1213502b00",
   "metadata": {},
   "outputs": [
    {
     "data": {
      "text/plain": [
       "'HELLO '"
      ]
     },
     "execution_count": 212,
     "metadata": {},
     "output_type": "execute_result"
    }
   ],
   "source": [
    "\n",
    "str1[:6]"
   ]
  },
  {
   "cell_type": "markdown",
   "id": "1eed6eca-a47d-472d-b554-ee581e361d6e",
   "metadata": {},
   "source": [
    "# Update & Delete String"
   ]
  },
  {
   "cell_type": "code",
   "execution_count": 215,
   "id": "e18f3449-f56b-4d4d-b397-9ba85e205a0b",
   "metadata": {},
   "outputs": [
    {
     "data": {
      "text/plain": [
       "'HELLO PYTHON'"
      ]
     },
     "execution_count": 215,
     "metadata": {},
     "output_type": "execute_result"
    }
   ],
   "source": [
    "str1 "
   ]
  },
  {
   "cell_type": "code",
   "execution_count": null,
   "id": "9f09db0a-58e7-44e6-807b-558fbb6fc4d4",
   "metadata": {},
   "outputs": [],
   "source": []
  }
 ],
 "metadata": {
  "kernelspec": {
   "display_name": "Python [conda env:anaconda3] *",
   "language": "python",
   "name": "conda-env-anaconda3-py"
  },
  "language_info": {
   "codemirror_mode": {
    "name": "ipython",
    "version": 3
   },
   "file_extension": ".py",
   "mimetype": "text/x-python",
   "name": "python",
   "nbconvert_exporter": "python",
   "pygments_lexer": "ipython3",
   "version": "3.12.7"
  }
 },
 "nbformat": 4,
 "nbformat_minor": 5
}
