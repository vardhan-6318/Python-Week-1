{
 "cells": [
  {
   "cell_type": "markdown",
   "id": "385f22a9-49c8-43ad-a844-2c7d0c6f6a4b",
   "metadata": {},
   "source": [
    "# PYTHON PRINT STATEMENT"
   ]
  },
  {
   "cell_type": "code",
   "execution_count": null,
   "id": "39fc2008-6d63-4be4-8777-173482285da0",
   "metadata": {},
   "outputs": [],
   "source": [
    "# print is use for answer"
   ]
  },
  {
   "cell_type": "code",
   "execution_count": 4,
   "id": "00ae0147-9b61-4926-843f-b3f3180d22cf",
   "metadata": {},
   "outputs": [
    {
     "data": {
      "text/plain": [
       "20"
      ]
     },
     "execution_count": 4,
     "metadata": {},
     "output_type": "execute_result"
    }
   ],
   "source": [
    "a=10\n",
    "b=20\n",
    "a\n",
    "b"
   ]
  },
  {
   "cell_type": "code",
   "execution_count": 6,
   "id": "56725997-49f8-4fed-af09-74da1e8375da",
   "metadata": {},
   "outputs": [
    {
     "name": "stdout",
     "output_type": "stream",
     "text": [
      "10\n",
      "20\n"
     ]
    }
   ],
   "source": [
    "a=10\n",
    "b=20\n",
    "print(a)\n",
    "print(b)"
   ]
  },
  {
   "cell_type": "code",
   "execution_count": 8,
   "id": "c67299a8-8f2a-4bd2-8863-2171a48b6964",
   "metadata": {},
   "outputs": [
    {
     "name": "stdout",
     "output_type": "stream",
     "text": [
      "10\n",
      "10 20\n",
      "python\n",
      "10 20 python\n"
     ]
    }
   ],
   "source": [
    "print(10)\n",
    "print(10,20)\n",
    "print('python')\n",
    "print(10,20,'python')"
   ]
  },
  {
   "cell_type": "code",
   "execution_count": 10,
   "id": "3d979ef9-d48a-4e98-adcd-1faa505e1113",
   "metadata": {},
   "outputs": [
    {
     "name": "stdout",
     "output_type": "stream",
     "text": [
      "50\n"
     ]
    }
   ],
   "source": [
    "num1=20\n",
    "num2=30\n",
    "add=num1+num2\n",
    "print(add)"
   ]
  },
  {
   "cell_type": "markdown",
   "id": "8782b2fc-5823-4af5-9651-b4737c6d5525",
   "metadata": {},
   "source": [
    "# print result with string"
   ]
  },
  {
   "cell_type": "code",
   "execution_count": 13,
   "id": "c3d45660-4053-40c5-9165-44a6d57a5d02",
   "metadata": {},
   "outputs": [
    {
     "name": "stdout",
     "output_type": "stream",
     "text": [
      "The addition of 20 and 30 is= 50\n"
     ]
    }
   ],
   "source": [
    "num1=20\n",
    "num2=30\n",
    "add=num1+num2\n",
    "print('The addition of',num1,'and',num2,'is=',add)"
   ]
  },
  {
   "cell_type": "code",
   "execution_count": 19,
   "id": "7a6c8639-665e-4aba-ae6b-e0745c98de38",
   "metadata": {},
   "outputs": [
    {
     "name": "stdout",
     "output_type": "stream",
     "text": [
      "My name is Sri and i am 25 years old from chicago\n"
     ]
    }
   ],
   "source": [
    "name='Sri'\n",
    "age=25\n",
    "city='chicago'\n",
    "print('My name is',name,'and i am',age,'years old from',city)\n"
   ]
  },
  {
   "cell_type": "markdown",
   "id": "1d2ba196-8d49-4f9c-81bd-d5df7b77db5c",
   "metadata": {},
   "source": [
    "# print format method"
   ]
  },
  {
   "cell_type": "code",
   "execution_count": 38,
   "id": "d5c922be-68b9-4d71-b8ce-53526f56bd8f",
   "metadata": {},
   "outputs": [
    {
     "name": "stdout",
     "output_type": "stream",
     "text": [
      "The addition of 20 and 20 is=40\n"
     ]
    }
   ],
   "source": [
    "num1=20\n",
    "num2=20\n",
    "add=num1+num2\n",
    "print('The addition of {} and {} is={}'.format(num1,num2,add))"
   ]
  },
  {
   "cell_type": "code",
   "execution_count": 40,
   "id": "f3731054-17a4-4e07-bf12-9aa1ae810380",
   "metadata": {},
   "outputs": [
    {
     "name": "stdout",
     "output_type": "stream",
     "text": [
      "hello my name isPython,and i am25 years old fromchicago\n"
     ]
    }
   ],
   "source": [
    "name='Python'\n",
    "age=25\n",
    "city='chicago'\n",
    "print('hello my name is{},and i am{} years old from{}'.format(name,age,city)) "
   ]
  },
  {
   "cell_type": "code",
   "execution_count": 44,
   "id": "697b1a17-a89e-4455-8faf-698d6ce3cd16",
   "metadata": {},
   "outputs": [
    {
     "name": "stdout",
     "output_type": "stream",
     "text": [
      "The average of 100,25,and 333 is= 152.66666666666666\n"
     ]
    }
   ],
   "source": [
    "num1=100\n",
    "num2=25\n",
    "num3=333\n",
    "avg=(num1+num2+num3)/3 # or we can use avg=round (num1+num2+num3)/3,2)\n",
    "avg1=round((num1+num2+num3)/3,2)\n",
    "#The average of num1,num2,num3 is =avg\n",
    "print('The average of {},{},and {} is= {}'.format(num1,num2,num3,avg,avg1))"
   ]
  },
  {
   "cell_type": "markdown",
   "id": "11befb94-f4a6-4ac0-b811-4b1ddf396627",
   "metadata": {},
   "source": [
    "# end statement\n"
   ]
  },
  {
   "cell_type": "code",
   "execution_count": 26,
   "id": "941c7236-6bd8-411b-b292-3cc4ab2739aa",
   "metadata": {},
   "outputs": [
    {
     "name": "stdout",
     "output_type": "stream",
     "text": [
      "hello\n",
      "good morning\n"
     ]
    }
   ],
   "source": [
    "print('hello')\n",
    "print('good morning')"
   ]
  },
  {
   "cell_type": "markdown",
   "id": "a834f9f3-80c6-4201-96ac-4cc0794027ea",
   "metadata": {},
   "source": [
    "# separator"
   ]
  },
  {
   "cell_type": "code",
   "execution_count": 32,
   "id": "5669a31e-7ec0-47b5-bd77-9c900c611a00",
   "metadata": {},
   "outputs": [
    {
     "name": "stdout",
     "output_type": "stream",
     "text": [
      "hello--->hai--->how are you\n"
     ]
    }
   ],
   "source": [
    "print('hello','hai','how are you',sep='--->')"
   ]
  },
  {
   "cell_type": "code",
   "execution_count": 34,
   "id": "06852e20-5d06-4383-8efb-6e5015c00d94",
   "metadata": {},
   "outputs": [
    {
     "name": "stdout",
     "output_type": "stream",
     "text": [
      "hello&hai&how are you\n"
     ]
    }
   ],
   "source": [
    "print('hello','hai','how are you',sep='&')"
   ]
  },
  {
   "cell_type": "code",
   "execution_count": 46,
   "id": "abc7cdd4-3bcf-48c4-ad95-da105f090aca",
   "metadata": {},
   "outputs": [
    {
     "name": "stdout",
     "output_type": "stream",
     "text": [
      "hello@hai@how are you\n"
     ]
    }
   ],
   "source": [
    "print('hello','hai','how are you',sep='@')"
   ]
  },
  {
   "cell_type": "code",
   "execution_count": 48,
   "id": "25756206-009e-494b-9b91-5f2a64134849",
   "metadata": {},
   "outputs": [
    {
     "name": "stdout",
     "output_type": "stream",
     "text": [
      "hellohaihow are you\n"
     ]
    }
   ],
   "source": [
    "print('hello','hai','how are you',sep='')"
   ]
  },
  {
   "cell_type": "code",
   "execution_count": 50,
   "id": "45872d11-f93e-4f8e-b66a-cd17e96e5425",
   "metadata": {},
   "outputs": [
    {
     "name": "stdout",
     "output_type": "stream",
     "text": [
      "3 .\n"
     ]
    }
   ],
   "source": [
    "print(3,'.')#. is far from 3 so here we will use sep method"
   ]
  },
  {
   "cell_type": "code",
   "execution_count": 52,
   "id": "b23fe544-cc88-4173-97ef-f4f7bfa954e7",
   "metadata": {},
   "outputs": [
    {
     "name": "stdout",
     "output_type": "stream",
     "text": [
      "3.\n"
     ]
    }
   ],
   "source": [
    "print(3,'.',sep='')# see noe space settled(also use to remove space B/W words)"
   ]
  },
  {
   "cell_type": "code",
   "execution_count": 58,
   "id": "2ff87f78-30a7-4518-9f90-19c8ba581c05",
   "metadata": {},
   "outputs": [
    {
     "name": "stdout",
     "output_type": "stream",
     "text": [
      "1 23.\n"
     ]
    }
   ],
   "source": [
    "print(1 ,2,end='')\n",
    "print(3,'.',sep='')\n",
    "#will print 1 2 3\n"
   ]
  },
  {
   "cell_type": "code",
   "execution_count": null,
   "id": "bf6a6673-09b6-4a75-9ab2-1632ba76e660",
   "metadata": {},
   "outputs": [],
   "source": []
  }
 ],
 "metadata": {
  "kernelspec": {
   "display_name": "Python [conda env:anaconda3] *",
   "language": "python",
   "name": "conda-env-anaconda3-py"
  },
  "language_info": {
   "codemirror_mode": {
    "name": "ipython",
    "version": 3
   },
   "file_extension": ".py",
   "mimetype": "text/x-python",
   "name": "python",
   "nbconvert_exporter": "python",
   "pygments_lexer": "ipython3",
   "version": "3.12.7"
  }
 },
 "nbformat": 4,
 "nbformat_minor": 5
}
