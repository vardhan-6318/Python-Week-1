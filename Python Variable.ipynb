{
 "cells": [
  {
   "cell_type": "markdown",
   "id": "b56cee79-755d-4147-ad9a-ada1780128ec",
   "metadata": {},
   "source": [
    "# Python Variable"
   ]
  },
  {
   "cell_type": "code",
   "execution_count": 39,
   "id": "78b889ae-6b9e-4090-99e0-751b3ac866ad",
   "metadata": {},
   "outputs": [
    {
     "name": "stdout",
     "output_type": "stream",
     "text": [
      "25\n"
     ]
    }
   ],
   "source": [
    "age=25\n",
    "print (age)"
   ]
  },
  {
   "cell_type": "code",
   "execution_count": 41,
   "id": "231f9573-a38b-47ed-8094-148f6aee574c",
   "metadata": {},
   "outputs": [
    {
     "name": "stdout",
     "output_type": "stream",
     "text": [
      "sri\n"
     ]
    }
   ],
   "source": [
    "name='sri'\n",
    "print (name)"
   ]
  },
  {
   "cell_type": "code",
   "execution_count": 43,
   "id": "3f31fc3b-bc54-467d-99ca-f7e51fe65d1f",
   "metadata": {},
   "outputs": [
    {
     "name": "stdout",
     "output_type": "stream",
     "text": [
      "19.99\n"
     ]
    }
   ],
   "source": [
    "price=19.99\n",
    "print (price)"
   ]
  },
  {
   "cell_type": "code",
   "execution_count": 45,
   "id": "82a345be-b96d-4568-aba9-f573c9395000",
   "metadata": {},
   "outputs": [
    {
     "name": "stdout",
     "output_type": "stream",
     "text": [
      "True\n"
     ]
    }
   ],
   "source": [
    "is_active=True\n",
    "print(is_active)"
   ]
  },
  {
   "cell_type": "markdown",
   "id": "0931b698-49ca-4819-a9b5-55c850c562dc",
   "metadata": {},
   "source": [
    "# Storing and Printing a Value"
   ]
  },
  {
   "cell_type": "code",
   "execution_count": 48,
   "id": "d5b504fa-d3b7-4435-ada5-8def0f5fe928",
   "metadata": {},
   "outputs": [],
   "source": [
    "x=10"
   ]
  },
  {
   "cell_type": "code",
   "execution_count": 50,
   "id": "08a4ced3-80fa-475b-86ce-a3406d9e03d5",
   "metadata": {},
   "outputs": [
    {
     "name": "stdout",
     "output_type": "stream",
     "text": [
      "10\n"
     ]
    }
   ],
   "source": [
    "print(x)"
   ]
  },
  {
   "cell_type": "markdown",
   "id": "eb968373-9e37-4a1f-849a-479354530760",
   "metadata": {},
   "source": [
    "# Using Variables in Expressions"
   ]
  },
  {
   "cell_type": "code",
   "execution_count": 59,
   "id": "f362f1d2-62f0-48dc-949f-057b386d7a35",
   "metadata": {},
   "outputs": [
    {
     "name": "stdout",
     "output_type": "stream",
     "text": [
      "8\n"
     ]
    }
   ],
   "source": [
    "a=5\n",
    "b=3\n",
    "result = a + b \n",
    "print(result)"
   ]
  },
  {
   "cell_type": "markdown",
   "id": "805b219a-a2a5-4e19-84ab-9d75ffdc981f",
   "metadata": {},
   "source": [
    "# Changing the Value of a Variable"
   ]
  },
  {
   "cell_type": "code",
   "execution_count": 61,
   "id": "dcade89b-c97a-4d53-b94d-eedd6955f58c",
   "metadata": {},
   "outputs": [
    {
     "name": "stdout",
     "output_type": "stream",
     "text": [
      "50\n"
     ]
    }
   ],
   "source": [
    "score=50\n",
    "print(score)"
   ]
  },
  {
   "cell_type": "code",
   "execution_count": 63,
   "id": "d02f5ac3-35bf-4820-8c4e-82e58144bbf4",
   "metadata": {},
   "outputs": [
    {
     "name": "stdout",
     "output_type": "stream",
     "text": [
      "100\n"
     ]
    }
   ],
   "source": [
    "score=100\n",
    "print(score)"
   ]
  },
  {
   "cell_type": "markdown",
   "id": "56ce7ad6-c3e8-4955-98e8-cfd6ee296009",
   "metadata": {},
   "source": [
    "# Concatenating Strings"
   ]
  },
  {
   "cell_type": "code",
   "execution_count": 71,
   "id": "dfb2c19b-be52-42e0-b58e-05e30e089d8e",
   "metadata": {},
   "outputs": [
    {
     "name": "stdout",
     "output_type": "stream",
     "text": [
      "Sri Vardhan\n"
     ]
    }
   ],
   "source": [
    "first_name=\"Sri\"\n",
    "last_name=\"Vardhan\"\n",
    "full_name=first_name + \" \"+ last_name\n",
    "print(full_name)"
   ]
  },
  {
   "cell_type": "markdown",
   "id": "96c3cb76-3ab5-4c86-b1a9-b509cd0f0749",
   "metadata": {},
   "source": [
    "# Using Variables in a Calculation"
   ]
  },
  {
   "cell_type": "code",
   "execution_count": 75,
   "id": "21359912-428d-4e5d-a486-d98e8c618e90",
   "metadata": {},
   "outputs": [
    {
     "name": "stdout",
     "output_type": "stream",
     "text": [
      "50\n"
     ]
    }
   ],
   "source": [
    "length=10\n",
    "width=5\n",
    "area=length*width\n",
    "print(area)"
   ]
  },
  {
   "cell_type": "markdown",
   "id": "8f8f8e0a-49a4-47e5-a90a-14ae29aeeb4e",
   "metadata": {},
   "source": [
    "# Reassigning Values to Variables"
   ]
  },
  {
   "cell_type": "code",
   "execution_count": 81,
   "id": "4c9d95bd-a84a-4e5a-ae75-359f4de08642",
   "metadata": {},
   "outputs": [
    {
     "name": "stdout",
     "output_type": "stream",
     "text": [
      "10\n"
     ]
    }
   ],
   "source": [
    "x=10\n",
    "print(x)"
   ]
  },
  {
   "cell_type": "code",
   "execution_count": 83,
   "id": "352bc3a9-9880-455f-954c-913ee9d2f8d2",
   "metadata": {},
   "outputs": [
    {
     "name": "stdout",
     "output_type": "stream",
     "text": [
      "20\n"
     ]
    }
   ],
   "source": [
    "x=20\n",
    "print(x)"
   ]
  },
  {
   "cell_type": "code",
   "execution_count": null,
   "id": "a9d37833-fff3-42c3-8f84-b09500200179",
   "metadata": {},
   "outputs": [],
   "source": []
  }
 ],
 "metadata": {
  "kernelspec": {
   "display_name": "Python [conda env:anaconda3] *",
   "language": "python",
   "name": "conda-env-anaconda3-py"
  },
  "language_info": {
   "codemirror_mode": {
    "name": "ipython",
    "version": 3
   },
   "file_extension": ".py",
   "mimetype": "text/x-python",
   "name": "python",
   "nbconvert_exporter": "python",
   "pygments_lexer": "ipython3",
   "version": "3.12.7"
  }
 },
 "nbformat": 4,
 "nbformat_minor": 5
}
